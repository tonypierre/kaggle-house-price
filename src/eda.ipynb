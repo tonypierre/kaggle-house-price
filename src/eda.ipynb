{
 "cells": [],
 "metadata": {
  "interpreter": {
   "hash": "e59b70fd6a35f15448c867c8482a0861d47b70df17183bd4e9fcf25a47d9e7cd"
  },
  "kernelspec": {
   "display_name": "Python 3.8.10 64-bit",
   "language": "python",
   "name": "python3"
  },
  "language_info": {
   "codemirror_mode": {
    "name": "ipython",
    "version": 3
   },
   "file_extension": ".py",
   "mimetype": "text/x-python",
   "name": "python",
   "nbconvert_exporter": "python",
   "pygments_lexer": "ipython3",
   "version": "3.8.10"
  },
  "orig_nbformat": 4
 },
 "nbformat": 4,
 "nbformat_minor": 2
}
